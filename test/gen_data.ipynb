{
 "cells": [
  {
   "cell_type": "code",
   "execution_count": 5,
   "metadata": {},
   "outputs": [],
   "source": [
    "import numpy as np\n",
    "import random as rd\n",
    "import plotly.express as px\n",
    "import plotly.graph_objects as go\n",
    "import re\n",
    "import pandas as pd"
   ]
  },
  {
   "cell_type": "code",
   "execution_count": 6,
   "metadata": {},
   "outputs": [
    {
     "name": "stdout",
     "output_type": "stream",
     "text": [
      "1\n"
     ]
    }
   ],
   "source": [
    "# n_s = [10, 25, 50, 75, 100]\n",
    "# n_s = [10, 25, 50, 75, 100, 250, 500, 750, 1000]\n",
    "n_s = [1000]\n",
    "\n",
    "print(len(n_s))"
   ]
  },
  {
   "cell_type": "code",
   "execution_count": 7,
   "metadata": {},
   "outputs": [],
   "source": [
    "for n in n_s:\n",
    "    min_tens = -int(\"10\" * (len(str(n)) - 1))\n",
    "    max_tens = int(\"10\" * len(str(n)))\n",
    "\n",
    "    min_val = -1 * min_tens / 100\n",
    "    max_val = 1 * max_tens / 100\n",
    "\n",
    "    matrix = np.random.uniform(min_val, max_val, size=(n, n))\n",
    "\n",
    "    for i in range(n):\n",
    "        diagonal_element = np.abs(matrix[i, i])\n",
    "        other_elements = np.sum(np.abs(matrix[i, :i])) + np.sum(np.abs(matrix[i, i+1:]))\n",
    "        matrix[i, i] = diagonal_element + other_elements + 1\n",
    "\n",
    "\n",
    "    b = [rd.uniform(-10 * min_tens, 10 * max_tens) for _ in range(n)]\n",
    "\n",
    "    sol = np.linalg.solve(matrix, b)\n",
    "\n",
    "\n",
    "    with open(f\"matrix_n{n}.txt\", \"w\") as mf:\n",
    "        np.savetxt(mf, matrix, fmt=\"%.2f\")\n",
    "    with open(f\"vector_n{n}.txt\", \"w\") as vf:\n",
    "        np.savetxt(vf, b, fmt=\"%.2f\")\n",
    "    with open(f\"solution_n{n}.txt\", \"w\") as sf:\n",
    "        np.savetxt(sf, sol, fmt=\"%.2f\")"
   ]
  },
  {
   "cell_type": "code",
   "execution_count": 8,
   "metadata": {},
   "outputs": [],
   "source": [
    "# n = 25\n",
    "# min_val = -n / 100\n",
    "# max_val = n / 100\n",
    "\n",
    "# matrix = np.random.uniform(min_val, max_val, size=(n, n))\n",
    "\n",
    "# for i in range(n):\n",
    "#     diagonal_element = np.abs(matrix[i, i])\n",
    "#     other_elements = np.sum(np.abs(matrix[i, :i])) + np.sum(np.abs(matrix[i, i+1:]))\n",
    "#     matrix[i, i] = diagonal_element + other_elements + 1\n",
    "\n",
    "\n",
    "# b = [rd.uniform(-n, n) for _ in range(n)]\n",
    "\n",
    "# sol = np.linalg.solve(matrix, b)\n",
    "\n",
    "\n",
    "# with open(f\"E:\\\\programming\\\\projects\\\\vstudio\\\\cpp\\\\NumericalMethods\\\\data\\\\gens\\\\matrix_n{n}.txt\", \"w\") as mf:\n",
    "#     np.savetxt(mf, matrix, fmt=\"%.2f\")\n",
    "# with open(f\"E:\\\\programming\\\\projects\\\\vstudio\\\\cpp\\\\NumericalMethods\\\\data\\\\gens\\\\vector_n{n}.txt\", \"w\") as vf:\n",
    "#     np.savetxt(vf, b, fmt=\"%.2f\")\n",
    "# with open(f\"E:\\\\programming\\\\projects\\\\vstudio\\\\cpp\\\\NumericalMethods\\\\data\\\\gens\\\\solution_n{n}.txt\", \"w\") as sf:\n",
    "#     np.savetxt(sf, sol, fmt=\"%.2f\")"
   ]
  }
 ],
 "metadata": {
  "kernelspec": {
   "display_name": "Python 3",
   "language": "python",
   "name": "python3"
  },
  "language_info": {
   "codemirror_mode": {
    "name": "ipython",
    "version": 3
   },
   "file_extension": ".py",
   "mimetype": "text/x-python",
   "name": "python",
   "nbconvert_exporter": "python",
   "pygments_lexer": "ipython3",
   "version": "3.11.5"
  }
 },
 "nbformat": 4,
 "nbformat_minor": 2
}
