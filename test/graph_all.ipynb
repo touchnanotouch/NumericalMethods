{
 "cells": [
  {
   "cell_type": "code",
   "execution_count": 58,
   "metadata": {},
   "outputs": [],
   "source": [
    "import numpy as np\n",
    "import random as rd\n",
    "import plotly.express as px\n",
    "import plotly.graph_objects as go\n",
    "import re\n",
    "import pandas as pd"
   ]
  },
  {
   "cell_type": "code",
   "execution_count": 59,
   "metadata": {},
   "outputs": [],
   "source": [
    "# n_s = [10, 25, 50, 75, 100, 250]\n",
    "# n_s = [10, 25, 50, 75, 100, 250, 500]\n",
    "n_s = [10, 25, 50, 75, 100, 250, 500, 750, 1000]"
   ]
  },
  {
   "cell_type": "code",
   "execution_count": 60,
   "metadata": {},
   "outputs": [],
   "source": [
    "infos = {}\n",
    "\n",
    "for n in n_s:\n",
    "    times = {}\n",
    "    accuracies = {}\n",
    "\n",
    "    with open(f\"info_all_n{n}.txt\", \"r\") as f:\n",
    "        lines = f.readlines()\n",
    "\n",
    "    found_time = False\n",
    "    fount_acc = False\n",
    "\n",
    "    for line in lines:\n",
    "        if found_time:\n",
    "            if \"gauss\" in line:\n",
    "                times[\"gauss\"] = (float(line.split(\":\")[1].strip()[:-1]))\n",
    "            elif \"thomas:\" in line:\n",
    "                times[\"thomas\"] = (float(line.split(\":\")[1].strip()[:-1]))\n",
    "            elif \"lu\" in line:\n",
    "                times[\"lu\"] = (float(line.split(\":\")[1].strip()[:-1]))\n",
    "            elif \"qroots\" in line:\n",
    "                times[\"qroots\"] = (float(line.split(\":\")[1].strip()[:-1]))\n",
    "                found_time = False\n",
    "            else:\n",
    "                if \"si:\" in line:\n",
    "                    times[\"si\"] = (float(line.split(\":\")[1].strip()[:-1]))\n",
    "                elif \"seidel\" in line:\n",
    "                    times[\"seidel\"] = (float(line.split(\":\")[1].strip()[:-1]))\n",
    "                elif \"sor\" in line:\n",
    "                    times[\"sor\"] = (float(line.split(\":\")[1].strip()[:-1]))\n",
    "                elif \"res\" in line:\n",
    "                    times[\"res\"] = (float(line.split(\":\")[1].strip()[:-1]))\n",
    "                elif \"grad\" in line:\n",
    "                    times[\"grad\"] = (float(line.split(\":\")[1].strip()[:-1]))\n",
    "                    found_time = False\n",
    "        elif fount_acc:\n",
    "            if \"gauss\" in line:\n",
    "                accuracies[\"gauss\"] = (float(line.split(\":\")[1].strip()[:-1]))\n",
    "            elif \"thomas:\" in line:\n",
    "                accuracies[\"thomas\"] = (float(line.split(\":\")[1].strip()[:-1]))\n",
    "            elif \"lu\" in line:\n",
    "                accuracies[\"lu\"] = (float(line.split(\":\")[1].strip()[:-1]))\n",
    "            elif \"qroots\" in line:\n",
    "                accuracies[\"qroots\"] = (float(line.split(\":\")[1].strip()[:-1]))\n",
    "                fount_acc = False\n",
    "            else:\n",
    "                if \"si:\" in line:\n",
    "                    accuracies[\"si\"] = (float(line.split(\":\")[1].strip()[:-1]))\n",
    "                elif \"seidel\" in line:\n",
    "                    accuracies[\"seidel\"] = (float(line.split(\":\")[1].strip()[:-1]))\n",
    "                elif \"sor\" in line:\n",
    "                    accuracies[\"sor\"] = (float(line.split(\":\")[1].strip()[:-1]))\n",
    "                elif \"res\" in line:\n",
    "                    accuracies[\"res\"] = (float(line.split(\":\")[1].strip()[:-1]))\n",
    "                elif \"grad\" in line:\n",
    "                    accuracies[\"grad\"] = (float(line.split(\":\")[1].strip()[:-1]))\n",
    "                    fount_acc = False\n",
    "\n",
    "        if line.startswith(\"Iterative methods (execution time)\") or line.startswith(\"Exact methods (execution time)\"):\n",
    "            found_time = True\n",
    "            continue\n",
    "        elif line.startswith(\"Iterative methods (accuracy)\") or line.startswith(\"Exact methods (accuracy)\"):\n",
    "            fount_acc = True\n",
    "            continue\n",
    "\n",
    "    infos[n] = {\"times\": times, \"accuracies\": accuracies}\n",
    "\n",
    "times_data = []\n",
    "accuracies_data = []\n",
    "\n",
    "for n in n_s:\n",
    "    for algo in [\"gauss\", \"thomas\", \"lu\", \"qroots\", \"si\", \"seidel\", \"sor\", \"res\", \"grad\"]:\n",
    "        times_data.append({\"n\": n, \"algo\": algo, \"time\": infos[n][\"times\"][algo]})\n",
    "        accuracies_data.append({\"n\": n, \"algo\": algo, \"accuracy\": infos[n][\"accuracies\"][algo]})\n",
    "\n",
    "times_df = pd.DataFrame(times_data)\n",
    "accuracies_df = pd.DataFrame(accuracies_data)\n",
    "\n",
    "times_df.to_csv(\"times.csv\")\n",
    "accuracies_df.to_csv(\"accuracies.csv\")"
   ]
  },
  {
   "cell_type": "code",
   "execution_count": 61,
   "metadata": {},
   "outputs": [
    {
     "data": {
      "application/vnd.plotly.v1+json": {
       "config": {
        "plotlyServerURL": "https://plot.ly"
       },
       "data": [
        {
         "hovertemplate": "algo=gauss<br>n=%{x}<br>time=%{y}<extra></extra>",
         "legendgroup": "gauss",
         "line": {
          "color": "#636efa",
          "dash": "solid"
         },
         "marker": {
          "symbol": "circle"
         },
         "mode": "lines+markers",
         "name": "gauss",
         "orientation": "v",
         "showlegend": true,
         "type": "scatter",
         "x": [
          10,
          25,
          50,
          75,
          100,
          250,
          500,
          750,
          1000
         ],
         "xaxis": "x",
         "y": [
          0.0000266,
          0.0000377,
          0.0001848,
          0.0004981,
          0.001101,
          0.0149266,
          0.112586,
          0.969997,
          1.48458
         ],
         "yaxis": "y"
        },
        {
         "hovertemplate": "algo=thomas<br>n=%{x}<br>time=%{y}<extra></extra>",
         "legendgroup": "thomas",
         "line": {
          "color": "#EF553B",
          "dash": "solid"
         },
         "marker": {
          "symbol": "circle"
         },
         "mode": "lines+markers",
         "name": "thomas",
         "orientation": "v",
         "showlegend": true,
         "type": "scatter",
         "x": [
          10,
          25,
          50,
          75,
          100,
          250,
          500,
          750,
          1000
         ],
         "xaxis": "x",
         "y": [
          0.0000046,
          0.0000082,
          0.0000306,
          0.0000418,
          0.0001052,
          0.0002978,
          0.0033429,
          0.0469539,
          0.0174203
         ],
         "yaxis": "y"
        },
        {
         "hovertemplate": "algo=lu<br>n=%{x}<br>time=%{y}<extra></extra>",
         "legendgroup": "lu",
         "line": {
          "color": "#00cc96",
          "dash": "solid"
         },
         "marker": {
          "symbol": "circle"
         },
         "mode": "lines+markers",
         "name": "lu",
         "orientation": "v",
         "showlegend": true,
         "type": "scatter",
         "x": [
          10,
          25,
          50,
          75,
          100,
          250,
          500,
          750,
          1000
         ],
         "xaxis": "x",
         "y": [
          0.0000141,
          0.0000917,
          0.0003085,
          0.0007978,
          0.0014493,
          0.0188465,
          0.184824,
          1.62597,
          2.25918
         ],
         "yaxis": "y"
        },
        {
         "hovertemplate": "algo=qroots<br>n=%{x}<br>time=%{y}<extra></extra>",
         "legendgroup": "qroots",
         "line": {
          "color": "#ab63fa",
          "dash": "solid"
         },
         "marker": {
          "symbol": "circle"
         },
         "mode": "lines+markers",
         "name": "qroots",
         "orientation": "v",
         "showlegend": true,
         "type": "scatter",
         "x": [
          10,
          25,
          50,
          75,
          100,
          250,
          500,
          750,
          1000
         ],
         "xaxis": "x",
         "y": [
          0.0000158,
          0.0000394,
          0.0001546,
          0.0003621,
          0.0008436,
          0.0090577,
          0.0895527,
          0.634016,
          0.898168
         ],
         "yaxis": "y"
        },
        {
         "hovertemplate": "algo=si<br>n=%{x}<br>time=%{y}<extra></extra>",
         "legendgroup": "si",
         "line": {
          "color": "#FFA15A",
          "dash": "solid"
         },
         "marker": {
          "symbol": "circle"
         },
         "mode": "lines+markers",
         "name": "si",
         "orientation": "v",
         "showlegend": true,
         "type": "scatter",
         "x": [
          10,
          25,
          50,
          75,
          100,
          250,
          500,
          750,
          1000
         ],
         "xaxis": "x",
         "y": [
          0.0000771,
          0.0002403,
          0.00065,
          0.0012162,
          0.0020519,
          0.0134309,
          0.0496121,
          0.133544,
          0.47531
         ],
         "yaxis": "y"
        },
        {
         "hovertemplate": "algo=seidel<br>n=%{x}<br>time=%{y}<extra></extra>",
         "legendgroup": "seidel",
         "line": {
          "color": "#19d3f3",
          "dash": "solid"
         },
         "marker": {
          "symbol": "circle"
         },
         "mode": "lines+markers",
         "name": "seidel",
         "orientation": "v",
         "showlegend": true,
         "type": "scatter",
         "x": [
          10,
          25,
          50,
          75,
          100,
          250,
          500,
          750,
          1000
         ],
         "xaxis": "x",
         "y": [
          0.0000551,
          0.0002434,
          0.0005585,
          0.0013883,
          0.001613,
          0.0127943,
          0.057311,
          0.165759,
          0.466104
         ],
         "yaxis": "y"
        },
        {
         "hovertemplate": "algo=sor<br>n=%{x}<br>time=%{y}<extra></extra>",
         "legendgroup": "sor",
         "line": {
          "color": "#FF6692",
          "dash": "solid"
         },
         "marker": {
          "symbol": "circle"
         },
         "mode": "lines+markers",
         "name": "sor",
         "orientation": "v",
         "showlegend": true,
         "type": "scatter",
         "x": [
          10,
          25,
          50,
          75,
          100,
          250,
          500,
          750,
          1000
         ],
         "xaxis": "x",
         "y": [
          0.0000568,
          0.0002482,
          0.0005697,
          0.0012464,
          0.0015084,
          0.0147885,
          0.056209,
          0.154061,
          0.550533
         ],
         "yaxis": "y"
        },
        {
         "hovertemplate": "algo=res<br>n=%{x}<br>time=%{y}<extra></extra>",
         "legendgroup": "res",
         "line": {
          "color": "#B6E880",
          "dash": "solid"
         },
         "marker": {
          "symbol": "circle"
         },
         "mode": "lines+markers",
         "name": "res",
         "orientation": "v",
         "showlegend": true,
         "type": "scatter",
         "x": [
          10,
          25,
          50,
          75,
          100,
          250,
          500,
          750,
          1000
         ],
         "xaxis": "x",
         "y": [
          0.002208,
          0.0447891,
          0.236003,
          0.7185,
          1.77647,
          35.0231,
          258.055,
          804.236,
          39.5092
         ],
         "yaxis": "y"
        },
        {
         "hovertemplate": "algo=grad<br>n=%{x}<br>time=%{y}<extra></extra>",
         "legendgroup": "grad",
         "line": {
          "color": "#FF97FF",
          "dash": "solid"
         },
         "marker": {
          "symbol": "circle"
         },
         "mode": "lines+markers",
         "name": "grad",
         "orientation": "v",
         "showlegend": true,
         "type": "scatter",
         "x": [
          10,
          25,
          50,
          75,
          100,
          250,
          500,
          750,
          1000
         ],
         "xaxis": "x",
         "y": [
          0.0243173,
          0.682909,
          10.3215,
          1.16344,
          2.66485,
          39.0351,
          376.242,
          1300.58,
          4236.6
         ],
         "yaxis": "y"
        }
       ],
       "layout": {
        "legend": {
         "title": {
          "text": "Методы"
         },
         "tracegroupgap": 0
        },
        "margin": {
         "t": 60
        },
        "template": {
         "data": {
          "bar": [
           {
            "error_x": {
             "color": "#2a3f5f"
            },
            "error_y": {
             "color": "#2a3f5f"
            },
            "marker": {
             "line": {
              "color": "#E5ECF6",
              "width": 0.5
             },
             "pattern": {
              "fillmode": "overlay",
              "size": 10,
              "solidity": 0.2
             }
            },
            "type": "bar"
           }
          ],
          "barpolar": [
           {
            "marker": {
             "line": {
              "color": "#E5ECF6",
              "width": 0.5
             },
             "pattern": {
              "fillmode": "overlay",
              "size": 10,
              "solidity": 0.2
             }
            },
            "type": "barpolar"
           }
          ],
          "carpet": [
           {
            "aaxis": {
             "endlinecolor": "#2a3f5f",
             "gridcolor": "white",
             "linecolor": "white",
             "minorgridcolor": "white",
             "startlinecolor": "#2a3f5f"
            },
            "baxis": {
             "endlinecolor": "#2a3f5f",
             "gridcolor": "white",
             "linecolor": "white",
             "minorgridcolor": "white",
             "startlinecolor": "#2a3f5f"
            },
            "type": "carpet"
           }
          ],
          "choropleth": [
           {
            "colorbar": {
             "outlinewidth": 0,
             "ticks": ""
            },
            "type": "choropleth"
           }
          ],
          "contour": [
           {
            "colorbar": {
             "outlinewidth": 0,
             "ticks": ""
            },
            "colorscale": [
             [
              0,
              "#0d0887"
             ],
             [
              0.1111111111111111,
              "#46039f"
             ],
             [
              0.2222222222222222,
              "#7201a8"
             ],
             [
              0.3333333333333333,
              "#9c179e"
             ],
             [
              0.4444444444444444,
              "#bd3786"
             ],
             [
              0.5555555555555556,
              "#d8576b"
             ],
             [
              0.6666666666666666,
              "#ed7953"
             ],
             [
              0.7777777777777778,
              "#fb9f3a"
             ],
             [
              0.8888888888888888,
              "#fdca26"
             ],
             [
              1,
              "#f0f921"
             ]
            ],
            "type": "contour"
           }
          ],
          "contourcarpet": [
           {
            "colorbar": {
             "outlinewidth": 0,
             "ticks": ""
            },
            "type": "contourcarpet"
           }
          ],
          "heatmap": [
           {
            "colorbar": {
             "outlinewidth": 0,
             "ticks": ""
            },
            "colorscale": [
             [
              0,
              "#0d0887"
             ],
             [
              0.1111111111111111,
              "#46039f"
             ],
             [
              0.2222222222222222,
              "#7201a8"
             ],
             [
              0.3333333333333333,
              "#9c179e"
             ],
             [
              0.4444444444444444,
              "#bd3786"
             ],
             [
              0.5555555555555556,
              "#d8576b"
             ],
             [
              0.6666666666666666,
              "#ed7953"
             ],
             [
              0.7777777777777778,
              "#fb9f3a"
             ],
             [
              0.8888888888888888,
              "#fdca26"
             ],
             [
              1,
              "#f0f921"
             ]
            ],
            "type": "heatmap"
           }
          ],
          "heatmapgl": [
           {
            "colorbar": {
             "outlinewidth": 0,
             "ticks": ""
            },
            "colorscale": [
             [
              0,
              "#0d0887"
             ],
             [
              0.1111111111111111,
              "#46039f"
             ],
             [
              0.2222222222222222,
              "#7201a8"
             ],
             [
              0.3333333333333333,
              "#9c179e"
             ],
             [
              0.4444444444444444,
              "#bd3786"
             ],
             [
              0.5555555555555556,
              "#d8576b"
             ],
             [
              0.6666666666666666,
              "#ed7953"
             ],
             [
              0.7777777777777778,
              "#fb9f3a"
             ],
             [
              0.8888888888888888,
              "#fdca26"
             ],
             [
              1,
              "#f0f921"
             ]
            ],
            "type": "heatmapgl"
           }
          ],
          "histogram": [
           {
            "marker": {
             "pattern": {
              "fillmode": "overlay",
              "size": 10,
              "solidity": 0.2
             }
            },
            "type": "histogram"
           }
          ],
          "histogram2d": [
           {
            "colorbar": {
             "outlinewidth": 0,
             "ticks": ""
            },
            "colorscale": [
             [
              0,
              "#0d0887"
             ],
             [
              0.1111111111111111,
              "#46039f"
             ],
             [
              0.2222222222222222,
              "#7201a8"
             ],
             [
              0.3333333333333333,
              "#9c179e"
             ],
             [
              0.4444444444444444,
              "#bd3786"
             ],
             [
              0.5555555555555556,
              "#d8576b"
             ],
             [
              0.6666666666666666,
              "#ed7953"
             ],
             [
              0.7777777777777778,
              "#fb9f3a"
             ],
             [
              0.8888888888888888,
              "#fdca26"
             ],
             [
              1,
              "#f0f921"
             ]
            ],
            "type": "histogram2d"
           }
          ],
          "histogram2dcontour": [
           {
            "colorbar": {
             "outlinewidth": 0,
             "ticks": ""
            },
            "colorscale": [
             [
              0,
              "#0d0887"
             ],
             [
              0.1111111111111111,
              "#46039f"
             ],
             [
              0.2222222222222222,
              "#7201a8"
             ],
             [
              0.3333333333333333,
              "#9c179e"
             ],
             [
              0.4444444444444444,
              "#bd3786"
             ],
             [
              0.5555555555555556,
              "#d8576b"
             ],
             [
              0.6666666666666666,
              "#ed7953"
             ],
             [
              0.7777777777777778,
              "#fb9f3a"
             ],
             [
              0.8888888888888888,
              "#fdca26"
             ],
             [
              1,
              "#f0f921"
             ]
            ],
            "type": "histogram2dcontour"
           }
          ],
          "mesh3d": [
           {
            "colorbar": {
             "outlinewidth": 0,
             "ticks": ""
            },
            "type": "mesh3d"
           }
          ],
          "parcoords": [
           {
            "line": {
             "colorbar": {
              "outlinewidth": 0,
              "ticks": ""
             }
            },
            "type": "parcoords"
           }
          ],
          "pie": [
           {
            "automargin": true,
            "type": "pie"
           }
          ],
          "scatter": [
           {
            "fillpattern": {
             "fillmode": "overlay",
             "size": 10,
             "solidity": 0.2
            },
            "type": "scatter"
           }
          ],
          "scatter3d": [
           {
            "line": {
             "colorbar": {
              "outlinewidth": 0,
              "ticks": ""
             }
            },
            "marker": {
             "colorbar": {
              "outlinewidth": 0,
              "ticks": ""
             }
            },
            "type": "scatter3d"
           }
          ],
          "scattercarpet": [
           {
            "marker": {
             "colorbar": {
              "outlinewidth": 0,
              "ticks": ""
             }
            },
            "type": "scattercarpet"
           }
          ],
          "scattergeo": [
           {
            "marker": {
             "colorbar": {
              "outlinewidth": 0,
              "ticks": ""
             }
            },
            "type": "scattergeo"
           }
          ],
          "scattergl": [
           {
            "marker": {
             "colorbar": {
              "outlinewidth": 0,
              "ticks": ""
             }
            },
            "type": "scattergl"
           }
          ],
          "scattermapbox": [
           {
            "marker": {
             "colorbar": {
              "outlinewidth": 0,
              "ticks": ""
             }
            },
            "type": "scattermapbox"
           }
          ],
          "scatterpolar": [
           {
            "marker": {
             "colorbar": {
              "outlinewidth": 0,
              "ticks": ""
             }
            },
            "type": "scatterpolar"
           }
          ],
          "scatterpolargl": [
           {
            "marker": {
             "colorbar": {
              "outlinewidth": 0,
              "ticks": ""
             }
            },
            "type": "scatterpolargl"
           }
          ],
          "scatterternary": [
           {
            "marker": {
             "colorbar": {
              "outlinewidth": 0,
              "ticks": ""
             }
            },
            "type": "scatterternary"
           }
          ],
          "surface": [
           {
            "colorbar": {
             "outlinewidth": 0,
             "ticks": ""
            },
            "colorscale": [
             [
              0,
              "#0d0887"
             ],
             [
              0.1111111111111111,
              "#46039f"
             ],
             [
              0.2222222222222222,
              "#7201a8"
             ],
             [
              0.3333333333333333,
              "#9c179e"
             ],
             [
              0.4444444444444444,
              "#bd3786"
             ],
             [
              0.5555555555555556,
              "#d8576b"
             ],
             [
              0.6666666666666666,
              "#ed7953"
             ],
             [
              0.7777777777777778,
              "#fb9f3a"
             ],
             [
              0.8888888888888888,
              "#fdca26"
             ],
             [
              1,
              "#f0f921"
             ]
            ],
            "type": "surface"
           }
          ],
          "table": [
           {
            "cells": {
             "fill": {
              "color": "#EBF0F8"
             },
             "line": {
              "color": "white"
             }
            },
            "header": {
             "fill": {
              "color": "#C8D4E3"
             },
             "line": {
              "color": "white"
             }
            },
            "type": "table"
           }
          ]
         },
         "layout": {
          "annotationdefaults": {
           "arrowcolor": "#2a3f5f",
           "arrowhead": 0,
           "arrowwidth": 1
          },
          "autotypenumbers": "strict",
          "coloraxis": {
           "colorbar": {
            "outlinewidth": 0,
            "ticks": ""
           }
          },
          "colorscale": {
           "diverging": [
            [
             0,
             "#8e0152"
            ],
            [
             0.1,
             "#c51b7d"
            ],
            [
             0.2,
             "#de77ae"
            ],
            [
             0.3,
             "#f1b6da"
            ],
            [
             0.4,
             "#fde0ef"
            ],
            [
             0.5,
             "#f7f7f7"
            ],
            [
             0.6,
             "#e6f5d0"
            ],
            [
             0.7,
             "#b8e186"
            ],
            [
             0.8,
             "#7fbc41"
            ],
            [
             0.9,
             "#4d9221"
            ],
            [
             1,
             "#276419"
            ]
           ],
           "sequential": [
            [
             0,
             "#0d0887"
            ],
            [
             0.1111111111111111,
             "#46039f"
            ],
            [
             0.2222222222222222,
             "#7201a8"
            ],
            [
             0.3333333333333333,
             "#9c179e"
            ],
            [
             0.4444444444444444,
             "#bd3786"
            ],
            [
             0.5555555555555556,
             "#d8576b"
            ],
            [
             0.6666666666666666,
             "#ed7953"
            ],
            [
             0.7777777777777778,
             "#fb9f3a"
            ],
            [
             0.8888888888888888,
             "#fdca26"
            ],
            [
             1,
             "#f0f921"
            ]
           ],
           "sequentialminus": [
            [
             0,
             "#0d0887"
            ],
            [
             0.1111111111111111,
             "#46039f"
            ],
            [
             0.2222222222222222,
             "#7201a8"
            ],
            [
             0.3333333333333333,
             "#9c179e"
            ],
            [
             0.4444444444444444,
             "#bd3786"
            ],
            [
             0.5555555555555556,
             "#d8576b"
            ],
            [
             0.6666666666666666,
             "#ed7953"
            ],
            [
             0.7777777777777778,
             "#fb9f3a"
            ],
            [
             0.8888888888888888,
             "#fdca26"
            ],
            [
             1,
             "#f0f921"
            ]
           ]
          },
          "colorway": [
           "#636efa",
           "#EF553B",
           "#00cc96",
           "#ab63fa",
           "#FFA15A",
           "#19d3f3",
           "#FF6692",
           "#B6E880",
           "#FF97FF",
           "#FECB52"
          ],
          "font": {
           "color": "#2a3f5f"
          },
          "geo": {
           "bgcolor": "white",
           "lakecolor": "white",
           "landcolor": "#E5ECF6",
           "showlakes": true,
           "showland": true,
           "subunitcolor": "white"
          },
          "hoverlabel": {
           "align": "left"
          },
          "hovermode": "closest",
          "mapbox": {
           "style": "light"
          },
          "paper_bgcolor": "white",
          "plot_bgcolor": "#E5ECF6",
          "polar": {
           "angularaxis": {
            "gridcolor": "white",
            "linecolor": "white",
            "ticks": ""
           },
           "bgcolor": "#E5ECF6",
           "radialaxis": {
            "gridcolor": "white",
            "linecolor": "white",
            "ticks": ""
           }
          },
          "scene": {
           "xaxis": {
            "backgroundcolor": "#E5ECF6",
            "gridcolor": "white",
            "gridwidth": 2,
            "linecolor": "white",
            "showbackground": true,
            "ticks": "",
            "zerolinecolor": "white"
           },
           "yaxis": {
            "backgroundcolor": "#E5ECF6",
            "gridcolor": "white",
            "gridwidth": 2,
            "linecolor": "white",
            "showbackground": true,
            "ticks": "",
            "zerolinecolor": "white"
           },
           "zaxis": {
            "backgroundcolor": "#E5ECF6",
            "gridcolor": "white",
            "gridwidth": 2,
            "linecolor": "white",
            "showbackground": true,
            "ticks": "",
            "zerolinecolor": "white"
           }
          },
          "shapedefaults": {
           "line": {
            "color": "#2a3f5f"
           }
          },
          "ternary": {
           "aaxis": {
            "gridcolor": "white",
            "linecolor": "white",
            "ticks": ""
           },
           "baxis": {
            "gridcolor": "white",
            "linecolor": "white",
            "ticks": ""
           },
           "bgcolor": "#E5ECF6",
           "caxis": {
            "gridcolor": "white",
            "linecolor": "white",
            "ticks": ""
           }
          },
          "title": {
           "x": 0.05
          },
          "xaxis": {
           "automargin": true,
           "gridcolor": "white",
           "linecolor": "white",
           "ticks": "",
           "title": {
            "standoff": 15
           },
           "zerolinecolor": "white",
           "zerolinewidth": 2
          },
          "yaxis": {
           "automargin": true,
           "gridcolor": "white",
           "linecolor": "white",
           "ticks": "",
           "title": {
            "standoff": 15
           },
           "zerolinecolor": "white",
           "zerolinewidth": 2
          }
         }
        },
        "title": {
         "text": "График времени выполнения всех реализованных методов"
        },
        "xaxis": {
         "anchor": "y",
         "domain": [
          0,
          1
         ],
         "title": {
          "text": "Количество переменных в СЛАУ (n)"
         }
        },
        "yaxis": {
         "anchor": "x",
         "domain": [
          0,
          1
         ],
         "tickformat": ".2ef",
         "title": {
          "text": "Время выполнения (s)"
         }
        }
       }
      }
     },
     "metadata": {},
     "output_type": "display_data"
    }
   ],
   "source": [
    "fig = px.line(times_df, x=\"n\", y=\"time\", color=\"algo\", markers=True)\n",
    "\n",
    "fig.update_layout(\n",
    "    title=\"График времени выполнения всех реализованных методов\",\n",
    "    legend=dict(title=\"Методы\"),\n",
    "    xaxis_title=\"Количество переменных в СЛАУ (n)\",\n",
    "    yaxis_title=\"Время выполнения (s)\",\n",
    "    yaxis=dict(tickformat=\".2ef\")\n",
    ")\n",
    "\n",
    "fig.show()"
   ]
  },
  {
   "cell_type": "code",
   "execution_count": 62,
   "metadata": {},
   "outputs": [
    {
     "data": {
      "application/vnd.plotly.v1+json": {
       "config": {
        "plotlyServerURL": "https://plot.ly"
       },
       "data": [
        {
         "hovertemplate": "algo=gauss<br>n=%{x}<br>accuracy=%{y}<extra></extra>",
         "legendgroup": "gauss",
         "line": {
          "color": "#636efa",
          "dash": "solid"
         },
         "marker": {
          "symbol": "circle"
         },
         "mode": "lines+markers",
         "name": "gauss",
         "orientation": "v",
         "showlegend": true,
         "type": "scatter",
         "x": [
          10,
          25,
          50,
          75,
          100,
          250,
          500,
          750,
          1000
         ],
         "xaxis": "x",
         "y": [
          96.9606,
          98.4155,
          99.4077,
          99.6276,
          99.7385,
          99.9504,
          99.9574,
          99.9329,
          99.9167
         ],
         "yaxis": "y"
        },
        {
         "hovertemplate": "algo=thomas<br>n=%{x}<br>accuracy=%{y}<extra></extra>",
         "legendgroup": "thomas",
         "line": {
          "color": "#EF553B",
          "dash": "solid"
         },
         "marker": {
          "symbol": "circle"
         },
         "mode": "lines+markers",
         "name": "thomas",
         "orientation": "v",
         "showlegend": true,
         "type": "scatter",
         "x": [
          10,
          25,
          50,
          75,
          100,
          250,
          500,
          750,
          1000
         ],
         "xaxis": "x",
         "y": [
          95.7976,
          97.4199,
          98.6238,
          99.0745,
          99.2337,
          99.6774,
          99.8384,
          99.8951,
          99.9186
         ],
         "yaxis": "y"
        },
        {
         "hovertemplate": "algo=lu<br>n=%{x}<br>accuracy=%{y}<extra></extra>",
         "legendgroup": "lu",
         "line": {
          "color": "#00cc96",
          "dash": "solid"
         },
         "marker": {
          "symbol": "circle"
         },
         "mode": "lines+markers",
         "name": "lu",
         "orientation": "v",
         "showlegend": true,
         "type": "scatter",
         "x": [
          10,
          25,
          50,
          75,
          100,
          250,
          500,
          750,
          1000
         ],
         "xaxis": "x",
         "y": [
          99.998,
          99.9994,
          99.9995,
          99.9995,
          99.9995,
          99.9995,
          99.9995,
          99.9995,
          99.9995
         ],
         "yaxis": "y"
        },
        {
         "hovertemplate": "algo=qroots<br>n=%{x}<br>accuracy=%{y}<extra></extra>",
         "legendgroup": "qroots",
         "line": {
          "color": "#ab63fa",
          "dash": "solid"
         },
         "marker": {
          "symbol": "circle"
         },
         "mode": "lines+markers",
         "name": "qroots",
         "orientation": "v",
         "showlegend": true,
         "type": "scatter",
         "x": [
          10,
          25,
          50,
          75,
          100,
          250,
          500,
          750,
          1000
         ],
         "xaxis": "x",
         "y": [
          97.7463,
          99.5095,
          99.8286,
          99.9011,
          99.9211,
          99.9847,
          99.9934,
          99.9967,
          99.9977
         ],
         "yaxis": "y"
        },
        {
         "hovertemplate": "algo=si<br>n=%{x}<br>accuracy=%{y}<extra></extra>",
         "legendgroup": "si",
         "line": {
          "color": "#FFA15A",
          "dash": "solid"
         },
         "marker": {
          "symbol": "circle"
         },
         "mode": "lines+markers",
         "name": "si",
         "orientation": "v",
         "showlegend": true,
         "type": "scatter",
         "x": [
          10,
          25,
          50,
          75,
          100,
          250,
          500,
          750,
          1000
         ],
         "xaxis": "x",
         "y": [
          99.998,
          99.9994,
          99.9995,
          99.9995,
          99.9995,
          99.9995,
          99.9995,
          99.9995,
          99.9995
         ],
         "yaxis": "y"
        },
        {
         "hovertemplate": "algo=seidel<br>n=%{x}<br>accuracy=%{y}<extra></extra>",
         "legendgroup": "seidel",
         "line": {
          "color": "#19d3f3",
          "dash": "solid"
         },
         "marker": {
          "symbol": "circle"
         },
         "mode": "lines+markers",
         "name": "seidel",
         "orientation": "v",
         "showlegend": true,
         "type": "scatter",
         "x": [
          10,
          25,
          50,
          75,
          100,
          250,
          500,
          750,
          1000
         ],
         "xaxis": "x",
         "y": [
          99.998,
          99.9994,
          99.9995,
          99.9995,
          99.9995,
          99.9995,
          99.9995,
          99.9995,
          99.9995
         ],
         "yaxis": "y"
        },
        {
         "hovertemplate": "algo=sor<br>n=%{x}<br>accuracy=%{y}<extra></extra>",
         "legendgroup": "sor",
         "line": {
          "color": "#FF6692",
          "dash": "solid"
         },
         "marker": {
          "symbol": "circle"
         },
         "mode": "lines+markers",
         "name": "sor",
         "orientation": "v",
         "showlegend": true,
         "type": "scatter",
         "x": [
          10,
          25,
          50,
          75,
          100,
          250,
          500,
          750,
          1000
         ],
         "xaxis": "x",
         "y": [
          99.998,
          99.9994,
          99.9995,
          99.9995,
          99.9995,
          99.9995,
          99.9995,
          99.9995,
          99.9995
         ],
         "yaxis": "y"
        },
        {
         "hovertemplate": "algo=res<br>n=%{x}<br>accuracy=%{y}<extra></extra>",
         "legendgroup": "res",
         "line": {
          "color": "#B6E880",
          "dash": "solid"
         },
         "marker": {
          "symbol": "circle"
         },
         "mode": "lines+markers",
         "name": "res",
         "orientation": "v",
         "showlegend": true,
         "type": "scatter",
         "x": [
          10,
          25,
          50,
          75,
          100,
          250,
          500,
          750,
          1000
         ],
         "xaxis": "x",
         "y": [
          95.9879,
          96.349,
          97.9737,
          98.5693,
          98.7387,
          99.5013,
          99.7535,
          99.8361,
          99.8767
         ],
         "yaxis": "y"
        },
        {
         "hovertemplate": "algo=grad<br>n=%{x}<br>accuracy=%{y}<extra></extra>",
         "legendgroup": "grad",
         "line": {
          "color": "#FF97FF",
          "dash": "solid"
         },
         "marker": {
          "symbol": "circle"
         },
         "mode": "lines+markers",
         "name": "grad",
         "orientation": "v",
         "showlegend": true,
         "type": "scatter",
         "x": [
          10,
          25,
          50,
          75,
          100,
          250,
          500,
          750,
          1000
         ],
         "xaxis": "x",
         "y": [
          93.2237,
          96.1312,
          97.686,
          99.9988,
          99.9993,
          99.9995,
          99.9995,
          99.9995,
          99.9995
         ],
         "yaxis": "y"
        }
       ],
       "layout": {
        "legend": {
         "title": {
          "text": "Методы"
         },
         "tracegroupgap": 0
        },
        "margin": {
         "t": 60
        },
        "template": {
         "data": {
          "bar": [
           {
            "error_x": {
             "color": "#2a3f5f"
            },
            "error_y": {
             "color": "#2a3f5f"
            },
            "marker": {
             "line": {
              "color": "#E5ECF6",
              "width": 0.5
             },
             "pattern": {
              "fillmode": "overlay",
              "size": 10,
              "solidity": 0.2
             }
            },
            "type": "bar"
           }
          ],
          "barpolar": [
           {
            "marker": {
             "line": {
              "color": "#E5ECF6",
              "width": 0.5
             },
             "pattern": {
              "fillmode": "overlay",
              "size": 10,
              "solidity": 0.2
             }
            },
            "type": "barpolar"
           }
          ],
          "carpet": [
           {
            "aaxis": {
             "endlinecolor": "#2a3f5f",
             "gridcolor": "white",
             "linecolor": "white",
             "minorgridcolor": "white",
             "startlinecolor": "#2a3f5f"
            },
            "baxis": {
             "endlinecolor": "#2a3f5f",
             "gridcolor": "white",
             "linecolor": "white",
             "minorgridcolor": "white",
             "startlinecolor": "#2a3f5f"
            },
            "type": "carpet"
           }
          ],
          "choropleth": [
           {
            "colorbar": {
             "outlinewidth": 0,
             "ticks": ""
            },
            "type": "choropleth"
           }
          ],
          "contour": [
           {
            "colorbar": {
             "outlinewidth": 0,
             "ticks": ""
            },
            "colorscale": [
             [
              0,
              "#0d0887"
             ],
             [
              0.1111111111111111,
              "#46039f"
             ],
             [
              0.2222222222222222,
              "#7201a8"
             ],
             [
              0.3333333333333333,
              "#9c179e"
             ],
             [
              0.4444444444444444,
              "#bd3786"
             ],
             [
              0.5555555555555556,
              "#d8576b"
             ],
             [
              0.6666666666666666,
              "#ed7953"
             ],
             [
              0.7777777777777778,
              "#fb9f3a"
             ],
             [
              0.8888888888888888,
              "#fdca26"
             ],
             [
              1,
              "#f0f921"
             ]
            ],
            "type": "contour"
           }
          ],
          "contourcarpet": [
           {
            "colorbar": {
             "outlinewidth": 0,
             "ticks": ""
            },
            "type": "contourcarpet"
           }
          ],
          "heatmap": [
           {
            "colorbar": {
             "outlinewidth": 0,
             "ticks": ""
            },
            "colorscale": [
             [
              0,
              "#0d0887"
             ],
             [
              0.1111111111111111,
              "#46039f"
             ],
             [
              0.2222222222222222,
              "#7201a8"
             ],
             [
              0.3333333333333333,
              "#9c179e"
             ],
             [
              0.4444444444444444,
              "#bd3786"
             ],
             [
              0.5555555555555556,
              "#d8576b"
             ],
             [
              0.6666666666666666,
              "#ed7953"
             ],
             [
              0.7777777777777778,
              "#fb9f3a"
             ],
             [
              0.8888888888888888,
              "#fdca26"
             ],
             [
              1,
              "#f0f921"
             ]
            ],
            "type": "heatmap"
           }
          ],
          "heatmapgl": [
           {
            "colorbar": {
             "outlinewidth": 0,
             "ticks": ""
            },
            "colorscale": [
             [
              0,
              "#0d0887"
             ],
             [
              0.1111111111111111,
              "#46039f"
             ],
             [
              0.2222222222222222,
              "#7201a8"
             ],
             [
              0.3333333333333333,
              "#9c179e"
             ],
             [
              0.4444444444444444,
              "#bd3786"
             ],
             [
              0.5555555555555556,
              "#d8576b"
             ],
             [
              0.6666666666666666,
              "#ed7953"
             ],
             [
              0.7777777777777778,
              "#fb9f3a"
             ],
             [
              0.8888888888888888,
              "#fdca26"
             ],
             [
              1,
              "#f0f921"
             ]
            ],
            "type": "heatmapgl"
           }
          ],
          "histogram": [
           {
            "marker": {
             "pattern": {
              "fillmode": "overlay",
              "size": 10,
              "solidity": 0.2
             }
            },
            "type": "histogram"
           }
          ],
          "histogram2d": [
           {
            "colorbar": {
             "outlinewidth": 0,
             "ticks": ""
            },
            "colorscale": [
             [
              0,
              "#0d0887"
             ],
             [
              0.1111111111111111,
              "#46039f"
             ],
             [
              0.2222222222222222,
              "#7201a8"
             ],
             [
              0.3333333333333333,
              "#9c179e"
             ],
             [
              0.4444444444444444,
              "#bd3786"
             ],
             [
              0.5555555555555556,
              "#d8576b"
             ],
             [
              0.6666666666666666,
              "#ed7953"
             ],
             [
              0.7777777777777778,
              "#fb9f3a"
             ],
             [
              0.8888888888888888,
              "#fdca26"
             ],
             [
              1,
              "#f0f921"
             ]
            ],
            "type": "histogram2d"
           }
          ],
          "histogram2dcontour": [
           {
            "colorbar": {
             "outlinewidth": 0,
             "ticks": ""
            },
            "colorscale": [
             [
              0,
              "#0d0887"
             ],
             [
              0.1111111111111111,
              "#46039f"
             ],
             [
              0.2222222222222222,
              "#7201a8"
             ],
             [
              0.3333333333333333,
              "#9c179e"
             ],
             [
              0.4444444444444444,
              "#bd3786"
             ],
             [
              0.5555555555555556,
              "#d8576b"
             ],
             [
              0.6666666666666666,
              "#ed7953"
             ],
             [
              0.7777777777777778,
              "#fb9f3a"
             ],
             [
              0.8888888888888888,
              "#fdca26"
             ],
             [
              1,
              "#f0f921"
             ]
            ],
            "type": "histogram2dcontour"
           }
          ],
          "mesh3d": [
           {
            "colorbar": {
             "outlinewidth": 0,
             "ticks": ""
            },
            "type": "mesh3d"
           }
          ],
          "parcoords": [
           {
            "line": {
             "colorbar": {
              "outlinewidth": 0,
              "ticks": ""
             }
            },
            "type": "parcoords"
           }
          ],
          "pie": [
           {
            "automargin": true,
            "type": "pie"
           }
          ],
          "scatter": [
           {
            "fillpattern": {
             "fillmode": "overlay",
             "size": 10,
             "solidity": 0.2
            },
            "type": "scatter"
           }
          ],
          "scatter3d": [
           {
            "line": {
             "colorbar": {
              "outlinewidth": 0,
              "ticks": ""
             }
            },
            "marker": {
             "colorbar": {
              "outlinewidth": 0,
              "ticks": ""
             }
            },
            "type": "scatter3d"
           }
          ],
          "scattercarpet": [
           {
            "marker": {
             "colorbar": {
              "outlinewidth": 0,
              "ticks": ""
             }
            },
            "type": "scattercarpet"
           }
          ],
          "scattergeo": [
           {
            "marker": {
             "colorbar": {
              "outlinewidth": 0,
              "ticks": ""
             }
            },
            "type": "scattergeo"
           }
          ],
          "scattergl": [
           {
            "marker": {
             "colorbar": {
              "outlinewidth": 0,
              "ticks": ""
             }
            },
            "type": "scattergl"
           }
          ],
          "scattermapbox": [
           {
            "marker": {
             "colorbar": {
              "outlinewidth": 0,
              "ticks": ""
             }
            },
            "type": "scattermapbox"
           }
          ],
          "scatterpolar": [
           {
            "marker": {
             "colorbar": {
              "outlinewidth": 0,
              "ticks": ""
             }
            },
            "type": "scatterpolar"
           }
          ],
          "scatterpolargl": [
           {
            "marker": {
             "colorbar": {
              "outlinewidth": 0,
              "ticks": ""
             }
            },
            "type": "scatterpolargl"
           }
          ],
          "scatterternary": [
           {
            "marker": {
             "colorbar": {
              "outlinewidth": 0,
              "ticks": ""
             }
            },
            "type": "scatterternary"
           }
          ],
          "surface": [
           {
            "colorbar": {
             "outlinewidth": 0,
             "ticks": ""
            },
            "colorscale": [
             [
              0,
              "#0d0887"
             ],
             [
              0.1111111111111111,
              "#46039f"
             ],
             [
              0.2222222222222222,
              "#7201a8"
             ],
             [
              0.3333333333333333,
              "#9c179e"
             ],
             [
              0.4444444444444444,
              "#bd3786"
             ],
             [
              0.5555555555555556,
              "#d8576b"
             ],
             [
              0.6666666666666666,
              "#ed7953"
             ],
             [
              0.7777777777777778,
              "#fb9f3a"
             ],
             [
              0.8888888888888888,
              "#fdca26"
             ],
             [
              1,
              "#f0f921"
             ]
            ],
            "type": "surface"
           }
          ],
          "table": [
           {
            "cells": {
             "fill": {
              "color": "#EBF0F8"
             },
             "line": {
              "color": "white"
             }
            },
            "header": {
             "fill": {
              "color": "#C8D4E3"
             },
             "line": {
              "color": "white"
             }
            },
            "type": "table"
           }
          ]
         },
         "layout": {
          "annotationdefaults": {
           "arrowcolor": "#2a3f5f",
           "arrowhead": 0,
           "arrowwidth": 1
          },
          "autotypenumbers": "strict",
          "coloraxis": {
           "colorbar": {
            "outlinewidth": 0,
            "ticks": ""
           }
          },
          "colorscale": {
           "diverging": [
            [
             0,
             "#8e0152"
            ],
            [
             0.1,
             "#c51b7d"
            ],
            [
             0.2,
             "#de77ae"
            ],
            [
             0.3,
             "#f1b6da"
            ],
            [
             0.4,
             "#fde0ef"
            ],
            [
             0.5,
             "#f7f7f7"
            ],
            [
             0.6,
             "#e6f5d0"
            ],
            [
             0.7,
             "#b8e186"
            ],
            [
             0.8,
             "#7fbc41"
            ],
            [
             0.9,
             "#4d9221"
            ],
            [
             1,
             "#276419"
            ]
           ],
           "sequential": [
            [
             0,
             "#0d0887"
            ],
            [
             0.1111111111111111,
             "#46039f"
            ],
            [
             0.2222222222222222,
             "#7201a8"
            ],
            [
             0.3333333333333333,
             "#9c179e"
            ],
            [
             0.4444444444444444,
             "#bd3786"
            ],
            [
             0.5555555555555556,
             "#d8576b"
            ],
            [
             0.6666666666666666,
             "#ed7953"
            ],
            [
             0.7777777777777778,
             "#fb9f3a"
            ],
            [
             0.8888888888888888,
             "#fdca26"
            ],
            [
             1,
             "#f0f921"
            ]
           ],
           "sequentialminus": [
            [
             0,
             "#0d0887"
            ],
            [
             0.1111111111111111,
             "#46039f"
            ],
            [
             0.2222222222222222,
             "#7201a8"
            ],
            [
             0.3333333333333333,
             "#9c179e"
            ],
            [
             0.4444444444444444,
             "#bd3786"
            ],
            [
             0.5555555555555556,
             "#d8576b"
            ],
            [
             0.6666666666666666,
             "#ed7953"
            ],
            [
             0.7777777777777778,
             "#fb9f3a"
            ],
            [
             0.8888888888888888,
             "#fdca26"
            ],
            [
             1,
             "#f0f921"
            ]
           ]
          },
          "colorway": [
           "#636efa",
           "#EF553B",
           "#00cc96",
           "#ab63fa",
           "#FFA15A",
           "#19d3f3",
           "#FF6692",
           "#B6E880",
           "#FF97FF",
           "#FECB52"
          ],
          "font": {
           "color": "#2a3f5f"
          },
          "geo": {
           "bgcolor": "white",
           "lakecolor": "white",
           "landcolor": "#E5ECF6",
           "showlakes": true,
           "showland": true,
           "subunitcolor": "white"
          },
          "hoverlabel": {
           "align": "left"
          },
          "hovermode": "closest",
          "mapbox": {
           "style": "light"
          },
          "paper_bgcolor": "white",
          "plot_bgcolor": "#E5ECF6",
          "polar": {
           "angularaxis": {
            "gridcolor": "white",
            "linecolor": "white",
            "ticks": ""
           },
           "bgcolor": "#E5ECF6",
           "radialaxis": {
            "gridcolor": "white",
            "linecolor": "white",
            "ticks": ""
           }
          },
          "scene": {
           "xaxis": {
            "backgroundcolor": "#E5ECF6",
            "gridcolor": "white",
            "gridwidth": 2,
            "linecolor": "white",
            "showbackground": true,
            "ticks": "",
            "zerolinecolor": "white"
           },
           "yaxis": {
            "backgroundcolor": "#E5ECF6",
            "gridcolor": "white",
            "gridwidth": 2,
            "linecolor": "white",
            "showbackground": true,
            "ticks": "",
            "zerolinecolor": "white"
           },
           "zaxis": {
            "backgroundcolor": "#E5ECF6",
            "gridcolor": "white",
            "gridwidth": 2,
            "linecolor": "white",
            "showbackground": true,
            "ticks": "",
            "zerolinecolor": "white"
           }
          },
          "shapedefaults": {
           "line": {
            "color": "#2a3f5f"
           }
          },
          "ternary": {
           "aaxis": {
            "gridcolor": "white",
            "linecolor": "white",
            "ticks": ""
           },
           "baxis": {
            "gridcolor": "white",
            "linecolor": "white",
            "ticks": ""
           },
           "bgcolor": "#E5ECF6",
           "caxis": {
            "gridcolor": "white",
            "linecolor": "white",
            "ticks": ""
           }
          },
          "title": {
           "x": 0.05
          },
          "xaxis": {
           "automargin": true,
           "gridcolor": "white",
           "linecolor": "white",
           "ticks": "",
           "title": {
            "standoff": 15
           },
           "zerolinecolor": "white",
           "zerolinewidth": 2
          },
          "yaxis": {
           "automargin": true,
           "gridcolor": "white",
           "linecolor": "white",
           "ticks": "",
           "title": {
            "standoff": 15
           },
           "zerolinecolor": "white",
           "zerolinewidth": 2
          }
         }
        },
        "title": {
         "text": "График точности решений СЛАУ, полученных всеми реализованными методами"
        },
        "xaxis": {
         "anchor": "y",
         "domain": [
          0,
          1
         ],
         "title": {
          "text": "Количество переменных в СЛАУ (n)"
         }
        },
        "yaxis": {
         "anchor": "x",
         "domain": [
          0,
          1
         ],
         "tickformat": ".2ef",
         "title": {
          "text": "Точность решения (%)"
         }
        }
       }
      }
     },
     "metadata": {},
     "output_type": "display_data"
    }
   ],
   "source": [
    "fig = px.line(accuracies_df, x=\"n\", y=\"accuracy\", color=\"algo\", markers=True)\n",
    "\n",
    "fig.update_layout(\n",
    "    title=\"График точности решений СЛАУ, полученных всеми реализованными методами\",\n",
    "    legend=dict(title=\"Методы\"),\n",
    "    xaxis_title=\"Количество переменных в СЛАУ (n)\",\n",
    "    yaxis_title=\"Точность решения (%)\",\n",
    "    yaxis=dict(tickformat=\".2ef\")\n",
    ")\n",
    "\n",
    "fig.show()"
   ]
  }
 ],
 "metadata": {
  "kernelspec": {
   "display_name": "Python 3",
   "language": "python",
   "name": "python3"
  },
  "language_info": {
   "codemirror_mode": {
    "name": "ipython",
    "version": 3
   },
   "file_extension": ".py",
   "mimetype": "text/x-python",
   "name": "python",
   "nbconvert_exporter": "python",
   "pygments_lexer": "ipython3",
   "version": "3.11.5"
  }
 },
 "nbformat": 4,
 "nbformat_minor": 2
}
